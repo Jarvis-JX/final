{
 "cells": [
  {
   "cell_type": "code",
   "execution_count": 1,
   "metadata": {},
   "outputs": [
    {
     "name": "stderr",
     "output_type": "stream",
     "text": [
      "\n",
      "Bad key \"text.kerning_factor\" on line 4 in\n",
      "D:\\Zstudy\\lib\\site-packages\\matplotlib\\mpl-data\\stylelib\\_classic_test_patch.mplstyle.\n",
      "You probably need to get an updated matplotlibrc file from\n",
      "http://github.com/matplotlib/matplotlib/blob/master/matplotlibrc.template\n",
      "or from the matplotlib source distribution\n"
     ]
    }
   ],
   "source": [
    "import numpy as np\n",
    "from matplotlib import pyplot as plt\n",
    "\n",
    "#计算所有城市之间的距离\n",
    "def distancing(citys):\n",
    "    N = len(citys)\n",
    "    distance = np.zeros((N, N))\n",
    "    for i, this_city in enumerate(citys):\n",
    "        temp = []\n",
    "        [temp.append(np.linalg.norm(np.array(this_city) - np.array(city))) if i != j else temp.append(0.0) for j, city in enumerate(citys)]\n",
    "        distance[i] = temp\n",
    "    return distance\n",
    "\n",
    "# 电压对时间求导\n",
    "def deri_V(V, distance):\n",
    "    lie = np.sum(V, axis=0) - 1  # 按列相加\n",
    "    hang = np.sum(V, axis=1) - 1  # 按行相加\n",
    "    first = np.zeros((N, N))\n",
    "    second = np.zeros((N, N))\n",
    "    for i in range(N):\n",
    "        for j in range(N):\n",
    "            first[i, j] = lie[j]\n",
    "    for i in range(N):\n",
    "        for j in range(N):\n",
    "            second[j, i] = hang[j]\n",
    "    # 将第一列移动到最后一列\n",
    "    cone = V[:, 1:N]\n",
    "    czero = np.zeros((N, 1))\n",
    "    czero[:, 0] = V[:, 0]\n",
    "    c = np.concatenate((cone, czero), axis=1)\n",
    "    c = np.dot(distance, c)\n",
    "    return -A * (first + second) - D * c\n",
    "\n",
    "# 计算能量\n",
    "def get_energy(V, distance):\n",
    "    first = np.sum(np.power(np.sum(V, axis=0) - 1, 2))\n",
    "    second = np.sum(np.power(np.sum(V, axis=1) - 1, 2))\n",
    "    id_ = [i for i in range(1, N)]\n",
    "    id_  = id_  + [0]\n",
    "    Vt = V[:, id_ ]\n",
    "    third = distance * Vt\n",
    "    third = np.sum(np.sum(np.multiply(V, third)))\n",
    "    energy = 0.5 * (A * (first + second) + D * third)\n",
    "    return energy\n",
    "\n",
    "\n",
    "# 可视化\n",
    "def Hamilton(citys,path):\n",
    "    plt.xlim(0, 7)\n",
    "    plt.ylim(0, 7)\n",
    "    for (from_, to_) in H_path:\n",
    "        p1 = plt.Circle(citys[from_], 0.2, color='blue')\n",
    "        p2 = plt.Circle(citys[to_], 0.2, color='blue')\n",
    "        plt.plot((citys[from_][0], citys[to_][0]), (citys[from_][1], citys[to_][1]), color='blue')\n",
    "        plt.annotate(s=chr(97 + to_), xy=citys[to_], xytext=(-8, -4), textcoords='offset points', fontsize=15)\n",
    "    plt.axis('equal')\n",
    "    plt.grid()\n",
    "    plt.show()\n",
    "    \n",
    "def Energys(energys):\n",
    "    plt.plot(np.arange(0, len(energys), 1), energys, color='red')\n",
    "    plt.show()"
   ]
  },
  {
   "cell_type": "code",
   "execution_count": null,
   "metadata": {},
   "outputs": [],
   "source": []
  },
  {
   "cell_type": "code",
   "execution_count": 2,
   "metadata": {},
   "outputs": [
    {
     "name": "stdout",
     "output_type": "stream",
     "text": [
      "在第116次迭代进行了更新，此时最优解距离为：23.585222823491943，能量为：141.81990092444295，路径为：\n",
      "e,a,g,h,c,b,d,f,e\n",
      "在第148次迭代进行了更新，此时最优解距离为：22.848005547048654，能量为：180.60062402806028，路径为：\n",
      "d,a,g,h,c,b,f,e,d\n",
      "在第452次迭代进行了更新，此时最优解距离为：21.204296716795266，能量为：175.0386038476039，路径为：\n",
      "e,h,g,a,c,b,f,d,e\n",
      "在第708次迭代进行了更新，此时最优解距离为：17.40615530295805，能量为：293.9826719078372，路径为：\n",
      "g,h,b,a,c,d,f,e,g\n",
      "在第1279次迭代进行了更新，此时最优解距离为：16.528023972905327，能量为：269.67049165216133，路径为：\n",
      "d,a,b,c,g,h,f,e,d\n",
      "在第1625次迭代进行了更新，此时最优解距离为：16.46284073991415，能量为：254.64255471004992，路径为：\n",
      "d,a,b,c,h,g,f,e,d\n",
      "在第1690次迭代进行了更新，此时最优解距离为：15.647559034406951，能量为：283.14823261487254，路径为：\n",
      "b,a,c,d,h,g,f,e,b\n",
      "在第4588次迭代进行了更新，此时最优解距离为：15.469413449533647，能量为：68.14758165910355，路径为：\n",
      "b,e,g,h,f,d,c,a,b\n",
      "在第7982次迭代进行了更新，此时最优解距离为：14.819131909660761，能量为：304.10905552203684，路径为：\n",
      "e,h,g,f,d,c,a,b,e\n"
     ]
    }
   ],
   "source": [
    "citys = np.array([[1,2], [1,4], [2,3], [3,2], [4,5], [5, 4], [6, 4], [6,5]])\n",
    "\n",
    "N = len(citys)\n",
    "# 设置初始值\n",
    "A = N * N\n",
    "D = N / 2\n",
    "U0 = 0.001  # 初始电压\n",
    "step = 0.0001  # 步长\n",
    "num_iter = 10000  # 迭代次数\n",
    "\n",
    "distance = distancing(citys)\n",
    "\n",
    "# 初始化神经网络的输入状态（电路的输入电压U）\n",
    "U = 1 / 2 * U0 * np.log(N - 1) + (2 * (np.random.random((N, N))) - 1)\n",
    "\n",
    "# 初始化神经网络的输出状态（电路的输出电压V）\n",
    "V = 1 / 2 * (1 + np.tanh(U / U0))\n",
    "\n",
    "energys = np.array([0.0 for x in range(num_iter)])  # 每次迭代的能量\n",
    "best_distance = np.inf  # 最优距离\n",
    "best_route = []  # 最优路线\n",
    "H_path = []  # 哈密顿回路\n",
    "\n",
    "for n in range(num_iter):\n",
    "    # 计算du/dt\n",
    "    du = deri_V(V, distance)\n",
    "    # 由一阶欧拉法更新下一个时间的输入状态（电路的输入电压U）\n",
    "    U = U + du * step\n",
    "    # 由sigmoid函数更新下一个时间的输出状态（电路的输出电压V）\n",
    "    V = 1 / 2 * (1 + np.tanh(U / U0))\n",
    "    # 计算当前网络的能量E\n",
    "    energys[n] = get_energy(V, distance)\n",
    "    # 检查路径\n",
    "    new = np.zeros([N, N])\n",
    "    route = []\n",
    "    for i in range(N):\n",
    "        mm = np.max(V[:, i])\n",
    "        for j in range(N):\n",
    "            if V[j, i] == mm:\n",
    "                new[j, i] = 1\n",
    "                route += [j]\n",
    "                break\n",
    "    if len(np.unique(route)) == N:\n",
    "        route.append(route[0])\n",
    "        dis = 0.0\n",
    "        for i in range(len(route) - 1):\n",
    "            dis += distance[route[i]][route[i+1]]\n",
    "        if dis < best_distance:\n",
    "            H_path = []\n",
    "            best_distance = dis\n",
    "            best_route = route\n",
    "            [H_path.append((route[i], route[i + 1])) for i in range(len(route) - 1)]\n",
    "            print('在第{}次迭代进行了更新，此时最优解距离为：{}，能量为：{}，路径为：'.format(n, best_distance, energys[n]))\n",
    "            [print(chr(97 + v), end=',' if i < len(best_route) - 1 else '\\n') for i, v in enumerate(best_route)]"
   ]
  },
  {
   "cell_type": "code",
   "execution_count": 3,
   "metadata": {
    "scrolled": false
   },
   "outputs": [
    {
     "data": {
      "image/png": "[encoded data removed]",
      "text/plain": [
       "<Figure size 432x288 with 1 Axes>"
      ]
     },
     "metadata": {
      "needs_background": "light"
     },
     "output_type": "display_data"
    }
   ],
   "source": [
    "Hamilton(citys, H_path)"
   ]
  },
  {
   "cell_type": "code",
   "execution_count": 4,
   "metadata": {
    "scrolled": true
   },
   "outputs": [
    {
     "data": {
      "image/png": "[encoded data removed]",
      "text/plain": [
       "<Figure size 432x288 with 1 Axes>"
      ]
     },
     "metadata": {
      "needs_background": "light"
     },
     "output_type": "display_data"
    }
   ],
   "source": [
    "Energys(energys)"
   ]
  },
  {
   "cell_type": "code",
   "execution_count": null,
   "metadata": {},
   "outputs": [],
   "source": []
  }
 ],
 "metadata": {
  "kernelspec": {
   "display_name": "Python 3",
   "language": "python",
   "name": "python3"
  },
  "language_info": {
   "codemirror_mode": {
    "name": "ipython",
    "version": 3
   },
   "file_extension": ".py",
   "mimetype": "text/x-python",
   "name": "python",
   "nbconvert_exporter": "python",
   "pygments_lexer": "ipython3",
   "version": "3.7.3"
  }
 },
 "nbformat": 4,
 "nbformat_minor": 4
}
